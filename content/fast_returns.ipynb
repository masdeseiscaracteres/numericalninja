{
 "cells": [
  {
   "cell_type": "code",
   "execution_count": 1,
   "metadata": {},
   "outputs": [],
   "source": [
    "import numpy as np\n",
    "import numpy.ma as ma\n",
    "import pandas as pd\n",
    "import talib\n",
    "import matplotlib.pyplot as plt\n",
    "import numexpr as ne\n",
    "import timeit\n",
    "import warnings\n",
    "from IPython import get_ipython\n",
    "ipython = get_ipython()\n",
    "# pip install line_profiler\n",
    "%load_ext line_profiler\n",
    "%matplotlib inline"
   ]
  },
  {
   "cell_type": "code",
   "execution_count": 2,
   "metadata": {
    "collapsed": true
   },
   "outputs": [],
   "source": [
    "import numba as nb\n",
    "@nb.jit\n",
    "def nancumlast_numba(arr, copy=True): # ffill in pandas parlance\n",
    "    '''Numba decorator solution provided by shx2.'''\n",
    "    if copy:\n",
    "        out = arr.copy()\n",
    "    else:\n",
    "        out = arr\n",
    "    for col_idx in range(out.shape[1]):\n",
    "        for row_idx in range(1, out.shape[0]):\n",
    "            if np.isnan(out[row_idx, col_idx]):\n",
    "                out[row_idx, col_idx] = out[row_idx-1, col_idx]\n",
    "    return out\n",
    "\n",
    "def nancumlast_np1(arr):\n",
    "    '''Solution provided by Divakar.'''\n",
    "    mask = np.isnan(arr)\n",
    "    idx = np.where(~mask, np.arange(mask.shape[0])[:,None],0)\n",
    "    np.maximum.accumulate(idx, axis=0, out=idx)\n",
    "    out = arr[idx, np.arange(idx.shape[1])[None, :]]\n",
    "    return out\n",
    "\n",
    "def nancumlast_np2(arr, axis=0, copy=True):\n",
    "    def fillna1d(v, copy=True):\n",
    "        if copy:\n",
    "            v = v.copy()\n",
    "        mask = np.isnan(v)\n",
    "        idx = np.arange(len(v))\n",
    "        mask[0] = False\n",
    "        pos_valid = idx[~mask]\n",
    "        pos_nan = idx[mask]\n",
    "        pos = np.searchsorted(pos_valid, pos_nan, side='right')\n",
    "        v[pos_nan] = v[pos_valid[pos-1]]\n",
    "        return v\n",
    "    return np.apply_along_axis(fillna1d,axis,arr, copy=copy)"
   ]
  },
  {
   "cell_type": "code",
   "execution_count": 3,
   "metadata": {
    "collapsed": true
   },
   "outputs": [],
   "source": [
    "def returns(x, periods=1, step=1):\n",
    "    r = (x[periods::step]-x[:-periods:step,])/x[:-periods:step,]\n",
    "    return r\n",
    "\n",
    "def returns_codesplit(x, periods=1, step=1):\n",
    "    b = x[:-periods:step]\n",
    "    a = x[periods::step]\n",
    "        \n",
    "    r = (a-b) # implies copy\n",
    "    r = r/b #inplace\n",
    "    return r\n",
    "\n",
    "def returns_inplace(x, periods=1, step=1, copy=True):\n",
    "    if copy:\n",
    "        x = x.copy()\n",
    "    a = x[periods::step] # view\n",
    "    a /= x[:-periods:step,] # in place computation\n",
    "    a -= 1 # in place computation\n",
    "    return a\n",
    "\n",
    "def returns_fast(x, periods=1, step=1):\n",
    "    r = (x[periods::step]-x[:-periods:step,])\n",
    "    r /= x[:-periods:step,]\n",
    "    return r\n",
    "\n",
    "def returns_numexpr(x, periods=1, step=1):\n",
    "    a = x[periods::step]\n",
    "    b = x[:-periods:step]\n",
    "    r = ne.evaluate('a/b-1')\n",
    "    return r"
   ]
  },
  {
   "cell_type": "code",
   "execution_count": 4,
   "metadata": {
    "collapsed": true
   },
   "outputs": [],
   "source": [
    "def returns_fast_propagate(x, periods=1, step=1, propagate=True):\n",
    "    b = x[:-periods:step].copy()\n",
    "    a = x[periods::step]\n",
    "    if propagate:\n",
    "        mask = np.isnan(a)\n",
    "        nancumlast_numba(b, copy=False)\n",
    "        \n",
    "    r = (a-b) # implies copy\n",
    "    r /= b \n",
    "    \n",
    "    if propagate:\n",
    "        r[mask] = np.nan\n",
    "    return r\n",
    "\n",
    "def returns_fast_propagate_inplace(x, periods=1, step=1, propagate=True):\n",
    "    r = x[:-periods:step].copy() # r=b\n",
    "    a = x[periods::step]\n",
    "    \n",
    "    if propagate:\n",
    "        mask = np.isnan(a)\n",
    "        nancumlast_numba(r, copy=False)\n",
    "     \n",
    "    np.divide(a, r, out=r) # r=a/r\n",
    "    r-=1 # r = r - 1\n",
    "    \n",
    "    if propagate:\n",
    "        r[mask] = np.nan\n",
    "    return r\n",
    "\n",
    "def returns_fast_propagate_numexpr(x, periods=1, step=1, propagate=True):\n",
    "    r = x[:-periods:step].copy() # r=b\n",
    "    a = x[periods::step]\n",
    "    \n",
    "    if propagate:\n",
    "        mask = np.isnan(a)\n",
    "        nancumlast_numba(r, copy=False)\n",
    "    \n",
    "    ne.evaluate('a/r-1',out=r)\n",
    "    \n",
    "    if propagate:\n",
    "        r[mask] = np.nan\n",
    "    return r"
   ]
  },
  {
   "cell_type": "code",
   "execution_count": 5,
   "metadata": {},
   "outputs": [],
   "source": [
    "# Generate prices\n",
    "N = 1000\n",
    "M = 30\n",
    "p = 100 + np.cumsum(np.random.randn(N,M),axis=0)\n",
    "p[[0,0,1,4,5,5,-2,-1,-1,1],[0,1,1,0,0,1,0,0,1,2]] = np.nan\n",
    "\n",
    "fp = pd.DataFrame(p).ffill().values"
   ]
  },
  {
   "cell_type": "code",
   "execution_count": 6,
   "metadata": {},
   "outputs": [
    {
     "name": "stdout",
     "output_type": "stream",
     "text": [
      "                                 returns: 0.164982 ms\n",
      "                       returns_codesplit: 0.159429 ms\n",
      "                         returns_inplace: 0.221371 ms\n",
      "                            returns_fast: 0.166307 ms\n",
      "                         returns_numexpr: 0.220305 ms\n",
      "                                <lambda>: 0.193243 ms\n",
      "----------------------- output changed!!! ------------------\n",
      "                  returns_fast_propagate: 0.312725 ms\n",
      "          returns_fast_propagate_inplace: 0.296076 ms\n",
      "          returns_fast_propagate_numexpr: 0.376868 ms\n"
     ]
    }
   ],
   "source": [
    "rfpf = lambda x: returns_fast_propagate(x, propagate=False)\n",
    "func_list = [returns, returns_codesplit, \n",
    "             returns_inplace,\n",
    "             returns_fast, \n",
    "             returns_numexpr, \n",
    "             rfpf,\n",
    "             returns_fast_propagate, returns_fast_propagate_inplace, \n",
    "             returns_fast_propagate_numexpr]\n",
    "\n",
    "def eval_array_funcs(func_list, *args):\n",
    "    prevr = None\n",
    "    for f in func_list:\n",
    "        r = f(*args)\n",
    "        if prevr is not None:\n",
    "            if not np.allclose(r,prevr,equal_nan=True):\n",
    "                print('----------------------- output changed!!! ------------------')\n",
    "        prevr = r\n",
    "        \n",
    "        t = timeit.Timer('f(*args)', globals=locals())\n",
    "        n, time = t.autorange()\n",
    "        print('{:>40}: {:.6f} ms'.format(f.__name__, 1000*time/n))\n",
    "         \n",
    "eval_array_funcs(func_list,p)"
   ]
  },
  {
   "cell_type": "code",
   "execution_count": 7,
   "metadata": {},
   "outputs": [],
   "source": [
    "# Where is time spent?\n",
    "%lprun -f returns_fast_propagate_inplace returns_fast_propagate_inplace(p,propagate=True)"
   ]
  }
 ],
 "metadata": {
  "kernelspec": {
   "display_name": "Python 3",
   "language": "python",
   "name": "python3"
  },
  "language_info": {
   "codemirror_mode": {
    "name": "ipython",
    "version": 3
   },
   "file_extension": ".py",
   "mimetype": "text/x-python",
   "name": "python",
   "nbconvert_exporter": "python",
   "pygments_lexer": "ipython3",
   "version": "3.6.2"
  }
 },
 "nbformat": 4,
 "nbformat_minor": 1
}
